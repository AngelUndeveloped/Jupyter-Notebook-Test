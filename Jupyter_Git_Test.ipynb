{
 "cells": [
  {
   "cell_type": "markdown",
   "id": "72b54f6f-8295-47ef-aa67-3b260d3d6a78",
   "metadata": {
    "tags": []
   },
   "source": [
    "# This is a test"
   ]
  },
  {
   "cell_type": "code",
   "execution_count": 1,
   "id": "8471aead-96ff-496f-b8d1-e61f26578e87",
   "metadata": {},
   "outputs": [
    {
     "name": "stdout",
     "output_type": "stream",
     "text": [
      "Hello there.\n"
     ]
    }
   ],
   "source": [
    "print(\"Hello there.\")"
   ]
  },
  {
   "cell_type": "code",
   "execution_count": null,
   "id": "d3d796f2-62c1-4115-beae-639d95a8a0c0",
   "metadata": {},
   "outputs": [],
   "source": []
  }
 ],
 "metadata": {
  "kernelspec": {
   "display_name": "Python 3 (ipykernel)",
   "language": "python",
   "name": "python3"
  },
  "language_info": {
   "codemirror_mode": {
    "name": "ipython",
    "version": 3
   },
   "file_extension": ".py",
   "mimetype": "text/x-python",
   "name": "python",
   "nbconvert_exporter": "python",
   "pygments_lexer": "ipython3",
   "version": "3.12.4"
  }
 },
 "nbformat": 4,
 "nbformat_minor": 5
}
